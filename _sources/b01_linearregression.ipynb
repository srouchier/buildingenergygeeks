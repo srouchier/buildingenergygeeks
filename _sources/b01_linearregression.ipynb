{
 "cells": [
  {
   "cell_type": "markdown",
   "id": "5bc3bcca",
   "metadata": {},
   "source": [
    "# Linear regression\n",
    "\n",
    "Template jupyter page"
   ]
  },
  {
   "cell_type": "code",
   "execution_count": null,
   "id": "1fbe06f0",
   "metadata": {},
   "outputs": [],
   "source": [
    "1+1"
   ]
  }
 ],
 "metadata": {
  "kernelspec": {
   "display_name": "bayes_env",
   "language": "python",
   "name": "python3"
  },
  "language_info": {
   "name": "python",
   "version": "3.11.8"
  }
 },
 "nbformat": 4,
 "nbformat_minor": 5
}
