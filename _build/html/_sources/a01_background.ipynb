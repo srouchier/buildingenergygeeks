{
 "cells": [
  {
   "cell_type": "markdown",
   "id": "2032dc92",
   "metadata": {},
   "source": [
    "# Chapter 1\n",
    "\n",
    "## Section 1\n",
    "\n",
    "### Subsection 1\n",
    "\n",
    "### Subsection 2\n",
    "\n",
    "## Section 2\n",
    "\n",
    "du markdown"
   ]
  },
  {
   "cell_type": "code",
   "execution_count": 1,
   "id": "59066af6",
   "metadata": {},
   "outputs": [
    {
     "data": {
      "text/plain": [
       "2"
      ]
     },
     "execution_count": 1,
     "metadata": {},
     "output_type": "execute_result"
    }
   ],
   "source": [
    "1+1"
   ]
  }
 ],
 "metadata": {
  "kernelspec": {
   "display_name": "bayes_env",
   "language": "python",
   "name": "python3"
  },
  "language_info": {
   "codemirror_mode": {
    "name": "ipython",
    "version": 3
   },
   "file_extension": ".py",
   "mimetype": "text/x-python",
   "name": "python",
   "nbconvert_exporter": "python",
   "pygments_lexer": "ipython3",
   "version": "3.11.8"
  }
 },
 "nbformat": 4,
 "nbformat_minor": 5
}
