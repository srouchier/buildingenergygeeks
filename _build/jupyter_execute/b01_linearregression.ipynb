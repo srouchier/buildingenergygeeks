{
 "cells": [
  {
   "cell_type": "markdown",
   "id": "5bc3bcca",
   "metadata": {},
   "source": [
    "# Linear regression\n",
    "\n",
    "Template jupyter page"
   ]
  },
  {
   "cell_type": "code",
   "execution_count": 1,
   "id": "1fbe06f0",
   "metadata": {},
   "outputs": [
    {
     "data": {
      "text/plain": [
       "2"
      ]
     },
     "execution_count": 1,
     "metadata": {},
     "output_type": "execute_result"
    }
   ],
   "source": [
    "1+1"
   ]
  }
 ],
 "metadata": {
  "kernelspec": {
   "display_name": "bayes_env",
   "language": "python",
   "name": "python3"
  },
  "language_info": {
   "codemirror_mode": {
    "name": "ipython",
    "version": 3
   },
   "file_extension": ".py",
   "mimetype": "text/x-python",
   "name": "python",
   "nbconvert_exporter": "python",
   "pygments_lexer": "ipython3",
   "version": "3.11.8"
  }
 },
 "nbformat": 4,
 "nbformat_minor": 5
}